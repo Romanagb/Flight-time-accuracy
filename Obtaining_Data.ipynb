{
 "cells": [
  {
   "cell_type": "code",
   "execution_count": null,
   "id": "bdcfa8d1",
   "metadata": {},
   "outputs": [],
   "source": [
    "#Imports\n",
    "\n",
    "from bs4 import BeautifulSoup\n",
    "import pandas as pd\n",
    "import time\n",
    "import urllib.request\n",
    "import requests\n",
    "import json\n",
    "import numpy as np\n",
    "from datetime import datetime, timezone, timedelta\n",
    "from selenium import webdriver\n",
    "from selenium.webdriver.common.keys import Keys\n",
    "from selenium.common.exceptions import NoSuchElementException\n",
    "from selenium.common.exceptions import ElementClickInterceptedException\n",
    "from selenium.webdriver.common.by import By\n",
    "from selenium.webdriver.support.ui import WebDriverWait\n",
    "from selenium.webdriver.support import expected_conditions as EC\n",
    "from selenium.common.exceptions import TimeoutException\n",
    "import undetected_chromedriver as uc\n"
   ]
  },
  {
   "cell_type": "code",
   "execution_count": null,
   "id": "bcef38d0",
   "metadata": {},
   "outputs": [],
   "source": [
    "#Function to get regular flights codes between 2 given airports\n",
    "\n",
    "def get_regular_flights(origin, destination):\n",
    "    airlines_codes = ['DLH', 'KLM', 'AEE', 'BAW', 'IBE', 'DAL', 'AFR', 'ITY', 'ELY']\n",
    "    airlines_codes_short = ['DL', 'KL', 'AE', 'BA', 'IB', 'DA', 'AF', 'IT', 'EL']\n",
    "    url = 'https://www.flightradar24.com/v1/search/web/find?query=%(origin)s-%(destination)s&limit=50' % {\"origin\": origin, \"destination\": destination}\n",
    "    flights = []\n",
    "    response = requests.get(url)\n",
    "    json_flights = response.json()\n",
    "    for result in json_flights['results']:\n",
    "        if result['type'] == 'schedule':\n",
    "            try:\n",
    "                if result['detail']['operator'][:3] in airlines_codes:\n",
    "                    flights.append(result['id'])\n",
    "            except:\n",
    "                try:\n",
    "                    if result['detail']['callsign'][:3] in airlines_codes:\n",
    "                        flights.append(result['id'])\n",
    "                except:\n",
    "                    if result['id'][:2] in airlines_codes_short:\n",
    "                        flights.append(result['id'])\n",
    "    return flights"
   ]
  },
  {
   "cell_type": "code",
   "execution_count": null,
   "id": "ba449e66",
   "metadata": {},
   "outputs": [],
   "source": [
    "#Function to get all regular flight codes\n",
    "\n",
    "def get_all_reg_flights():\n",
    "    airports_codes = ['TLV', 'LHR', 'MAD', 'JFK', 'CDG', 'FCO', 'ATH', 'AMS', 'FRA', 'BKK', 'LIS', 'DXB', 'SAW']\n",
    "    flights = []\n",
    "    for i in range(len(airports_codes)):\n",
    "        for j in range(len(airports_codes)):\n",
    "            if i != j:\n",
    "                flights_to_add = get_regular_flights(airports_codes[i], airports_codes[j])\n",
    "                for flight in flights_to_add:\n",
    "                    flights.append(flight)\n",
    "    return flights"
   ]
  },
  {
   "cell_type": "code",
   "execution_count": null,
   "id": "0a64a6bc",
   "metadata": {},
   "outputs": [],
   "source": [
    "#Function to get data about last flights for each flight code\n",
    "\n",
    "def get_data_for_flight(code, driver):\n",
    "    url = 'https://www.flightradar24.com/data/flights/%s' %code\n",
    "    df = pd.DataFrame()\n",
    "    driver.get(url)\n",
    "    soup = BeautifulSoup(driver.page_source, 'html.parser')\n",
    "    while('please wait' in soup):\n",
    "        time.sleep(1)\n",
    "        soup = BeautifulSoup(driver.page_source, 'html.parser')        \n",
    "    table = None\n",
    "    try:\n",
    "        table = soup.find('table').tbody\n",
    "    except:\n",
    "        table = None\n",
    "    if table == None:\n",
    "        return df.T\n",
    "    for tr in table.find_all('tr'):\n",
    "        row = []\n",
    "        row.append(code)\n",
    "        tds = tr.find_all('td')[2:9]\n",
    "        if '—' not in tds[4].text:\n",
    "            for td in tds:\n",
    "                row.append(td.text)\n",
    "        if len(row) != 1:\n",
    "            row_seriers = pd.Series(row)\n",
    "            df = pd.concat([df, row_seriers], axis= 1)\n",
    "    return df.T"
   ]
  },
  {
   "cell_type": "code",
   "execution_count": null,
   "id": "79906b6b",
   "metadata": {},
   "outputs": [],
   "source": [
    "#Function to get data for all our flight codes and add it to our dataframe\n",
    "\n",
    "def get_data_all_flights(flights):\n",
    "    df = pd.DataFrame()\n",
    "    driver = uc.Chrome()\n",
    "    for i in range(len(flights)):\n",
    "        print (len(flights) + ' more flight codes remaining')\n",
    "        time.sleep(3)\n",
    "        df_for_code = get_data_for_flight(flights[i], driver)\n",
    "        if not (df_for_code.empty):\n",
    "            df = pd.concat([df, df_for_code], axis= 0,ignore_index=True)\n",
    "    driver.quit()\n",
    "    return df.copy()"
   ]
  },
  {
   "cell_type": "code",
   "execution_count": null,
   "id": "9d1ffd15",
   "metadata": {},
   "outputs": [],
   "source": [
    "#Main\n",
    "\n",
    "flights = get_all_reg_flights()\n",
    "len(flights)"
   ]
  },
  {
   "cell_type": "code",
   "execution_count": null,
   "id": "0ced221b",
   "metadata": {},
   "outputs": [],
   "source": [
    "df = get_data_all_flights(flights)\n",
    "features = {0:'Code', 1:'Date',2: 'Origin', 3:'Destination',4: 'Aircraft',5: 'Flight time',6: 'Scheduled Departure',7: 'Actual Departure'}\n",
    "df=df.rename(columns=features)\n",
    "df.to_csv('raw_data.csv')"
   ]
  }
 ],
 "metadata": {
  "kernelspec": {
   "display_name": "Python 3 (ipykernel)",
   "language": "python",
   "name": "python3"
  },
  "language_info": {
   "codemirror_mode": {
    "name": "ipython",
    "version": 3
   },
   "file_extension": ".py",
   "mimetype": "text/x-python",
   "name": "python",
   "nbconvert_exporter": "python",
   "pygments_lexer": "ipython3",
   "version": "3.9.13"
  }
 },
 "nbformat": 4,
 "nbformat_minor": 5
}
